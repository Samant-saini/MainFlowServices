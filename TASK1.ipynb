{
 "cells": [
  {
   "cell_type": "markdown",
   "id": "64c1e131-84b3-427a-9a41-e6639d228873",
   "metadata": {},
   "source": [
    "### List"
   ]
  },
  {
   "cell_type": "code",
   "execution_count": null,
   "id": "f10f71a8-3e22-48c9-b46a-cf9a1bf926b3",
   "metadata": {},
   "outputs": [],
   "source": [
    "#creating a list\n",
    "my_list = [10, 20, 30, 40, 50]\n",
    "print(\"Original List:\", my_list)\n"
   ]
  },
  {
   "cell_type": "code",
   "execution_count": 2,
   "id": "f011e1d0-0884-4761-8588-c99398450953",
   "metadata": {},
   "outputs": [
    {
     "name": "stdout",
     "output_type": "stream",
     "text": [
      "After Append: [10, 20, 30, 40, 50, 60]\n"
     ]
    }
   ],
   "source": [
    "# Append an element to the list\n",
    "my_list.append(60)\n",
    "print(\"After Append:\", my_list)\n"
   ]
  },
  {
   "cell_type": "code",
   "execution_count": 3,
   "id": "f83f7f9f-9d0d-4249-8ab9-e53e627adb92",
   "metadata": {},
   "outputs": [
    {
     "name": "stdout",
     "output_type": "stream",
     "text": [
      "After Insertion: [10, 20, 25, 30, 40, 50, 60]\n"
     ]
    }
   ],
   "source": [
    "# Insert an element at index 2\n",
    "my_list.insert(2, 25)\n",
    "print(\"After Insertion:\", my_list)\n"
   ]
  },
  {
   "cell_type": "code",
   "execution_count": 4,
   "id": "ad47d3df-23db-4fca-b180-aefbdf9553dd",
   "metadata": {},
   "outputs": [
    {
     "name": "stdout",
     "output_type": "stream",
     "text": [
      "After Removing 30: [10, 20, 25, 40, 50, 60]\n"
     ]
    }
   ],
   "source": [
    "# Remove the element with value 30\n",
    "my_list.remove(30)\n",
    "print(\"After Removing 30:\", my_list)\n"
   ]
  },
  {
   "cell_type": "code",
   "execution_count": 5,
   "id": "10aa4688-c0f7-417c-8ddb-76d4e8062092",
   "metadata": {},
   "outputs": [
    {
     "name": "stdout",
     "output_type": "stream",
     "text": [
      "After Popping Element at Index 3: [10, 20, 25, 50, 60]\n",
      "Popped Element: 40\n"
     ]
    }
   ],
   "source": [
    "# Pop the element at index 3\n",
    "popped_element = my_list.pop(3)\n",
    "print(\"After Popping Element at Index 3:\", my_list)\n",
    "print(\"Popped Element:\", popped_element)\n"
   ]
  },
  {
   "cell_type": "code",
   "execution_count": 6,
   "id": "a46245e4-30b6-4145-8a64-651f890757c2",
   "metadata": {},
   "outputs": [
    {
     "name": "stdout",
     "output_type": "stream",
     "text": [
      "Index of 50: 3\n"
     ]
    }
   ],
   "source": [
    "# Find the index of element 50\n",
    "index_of_50 = my_list.index(50)\n",
    "print(\"Index of 50:\", index_of_50)\n"
   ]
  },
  {
   "cell_type": "code",
   "execution_count": 7,
   "id": "dc14dd05-b27c-43c9-9480-5de461112296",
   "metadata": {},
   "outputs": [
    {
     "name": "stdout",
     "output_type": "stream",
     "text": [
      "Is 40 in the List? False\n"
     ]
    }
   ],
   "source": [
    "# Check if 40 is in the list\n",
    "is_40_in_list = 40 in my_list\n",
    "print(\"Is 40 in the List?\", is_40_in_list)\n"
   ]
  },
  {
   "cell_type": "code",
   "execution_count": 8,
   "id": "28bb744e-e5f8-49c1-99e1-d5ac5e98a4bd",
   "metadata": {},
   "outputs": [
    {
     "name": "stdout",
     "output_type": "stream",
     "text": [
      "Length of the List: 5\n"
     ]
    }
   ],
   "source": [
    "# Find the length of the list\n",
    "list_length = len(my_list)\n",
    "print(\"Length of the List:\", list_length)\n"
   ]
  },
  {
   "cell_type": "markdown",
   "id": "2741cfb0-79cf-41b3-9252-e94e640870d2",
   "metadata": {},
   "source": [
    "### Dictionary"
   ]
  },
  {
   "cell_type": "code",
   "execution_count": 10,
   "id": "6adaa4a4-f6b8-4559-bcea-63fe57ac435b",
   "metadata": {},
   "outputs": [
    {
     "name": "stdout",
     "output_type": "stream",
     "text": [
      "Original Dictionary: {'name': 'Alice', 'age': 25, 'city': 'New York', 'profession': 'Engineer'}\n"
     ]
    }
   ],
   "source": [
    "# Creating a dictionary with key-value pairs\n",
    "my_dict = {\n",
    "    'name': 'Alice',\n",
    "    'age': 25,\n",
    "    'city': 'New York',\n",
    "    'profession': 'Engineer'\n",
    "}\n",
    "print(\"Original Dictionary:\", my_dict)\n"
   ]
  },
  {
   "cell_type": "code",
   "execution_count": 11,
   "id": "e575e1b4-eb39-4939-86d0-1182e34a3005",
   "metadata": {},
   "outputs": [
    {
     "name": "stdout",
     "output_type": "stream",
     "text": [
      "Name: Alice\n",
      "Profession: Engineer\n",
      "Salary: None\n"
     ]
    }
   ],
   "source": [
    "# Access the value for a specific key\n",
    "name = my_dict['name']\n",
    "print(\"Name:\", name)\n",
    "\n",
    "# Using .get() method to access values (it won't raise an error if the key doesn't exist)\n",
    "profession = my_dict.get('profession')\n",
    "print(\"Profession:\", profession)\n",
    "\n",
    "# Access a key that doesn't exist using .get() (returns None)\n",
    "salary = my_dict.get('salary')\n",
    "print(\"Salary:\", salary)  # Output will be None\n"
   ]
  },
  {
   "cell_type": "code",
   "execution_count": 12,
   "id": "4678160d-14af-4e06-b4e0-4cbf2a282955",
   "metadata": {},
   "outputs": [
    {
     "name": "stdout",
     "output_type": "stream",
     "text": [
      "After Adding Salary: {'name': 'Alice', 'age': 25, 'city': 'New York', 'profession': 'Engineer', 'salary': 80000}\n",
      "After Updating Age: {'name': 'Alice', 'age': 26, 'city': 'New York', 'profession': 'Engineer', 'salary': 80000}\n"
     ]
    }
   ],
   "source": [
    "# Adding a new key-value pair\n",
    "my_dict['salary'] = 80000\n",
    "print(\"After Adding Salary:\", my_dict)\n",
    "\n",
    "# Updating the value of an existing key\n",
    "my_dict['age'] = 26\n",
    "print(\"After Updating Age:\", my_dict)\n"
   ]
  },
  {
   "cell_type": "code",
   "execution_count": 13,
   "id": "8f579da1-9a9e-4781-9b40-7853f2c505bd",
   "metadata": {},
   "outputs": [
    {
     "name": "stdout",
     "output_type": "stream",
     "text": [
      "After Removing City: {'name': 'Alice', 'age': 26, 'profession': 'Engineer', 'salary': 80000}\n",
      "After Removing Profession: {'name': 'Alice', 'age': 26, 'salary': 80000}\n",
      "Removed Profession: Engineer\n"
     ]
    }
   ],
   "source": [
    "# Remove a key-value pair using del\n",
    "del my_dict['city']\n",
    "print(\"After Removing City:\", my_dict)\n",
    "\n",
    "# Remove a key-value pair using pop (returns the value of the removed key)\n",
    "profession_removed = my_dict.pop('profession')\n",
    "print(\"After Removing Profession:\", my_dict)\n",
    "print(\"Removed Profession:\", profession_removed)\n"
   ]
  },
  {
   "cell_type": "code",
   "execution_count": 14,
   "id": "3f7e95b7-0387-4e49-b83f-e7d495bf041c",
   "metadata": {},
   "outputs": [
    {
     "name": "stdout",
     "output_type": "stream",
     "text": [
      "Keys in Dictionary:\n",
      "name\n",
      "age\n",
      "salary\n",
      "Values in Dictionary:\n",
      "Alice\n",
      "26\n",
      "80000\n",
      "Key-Value Pairs in Dictionary:\n",
      "name: Alice\n",
      "age: 26\n",
      "salary: 80000\n"
     ]
    }
   ],
   "source": [
    "# Iterate over keys\n",
    "print(\"Keys in Dictionary:\")\n",
    "for key in my_dict:\n",
    "    print(key)\n",
    "\n",
    "# Iterate over values\n",
    "print(\"Values in Dictionary:\")\n",
    "for value in my_dict.values():\n",
    "    print(value)\n",
    "\n",
    "# Iterate over key-value pairs\n",
    "print(\"Key-Value Pairs in Dictionary:\")\n",
    "for key, value in my_dict.items():\n",
    "    print(f\"{key}: {value}\")\n"
   ]
  },
  {
   "cell_type": "code",
   "execution_count": 15,
   "id": "96e42e01-c1e8-4c9a-b335-f892c92efbba",
   "metadata": {},
   "outputs": [
    {
     "name": "stdout",
     "output_type": "stream",
     "text": [
      "Number of Key-Value Pairs in Dictionary: 3\n"
     ]
    }
   ],
   "source": [
    "# Get the number of key-value pairs in the dictionary\n",
    "dict_length = len(my_dict)\n",
    "print(\"Number of Key-Value Pairs in Dictionary:\", dict_length)\n"
   ]
  },
  {
   "cell_type": "code",
   "execution_count": 16,
   "id": "96fed239-fbb1-44ff-ac5a-3b705a505864",
   "metadata": {},
   "outputs": [
    {
     "name": "stdout",
     "output_type": "stream",
     "text": [
      "Copied Dictionary: {'name': 'Alice', 'age': 26, 'salary': 80000}\n"
     ]
    }
   ],
   "source": [
    "# Create a copy of the dictionary\n",
    "dict_copy = my_dict.copy()\n",
    "print(\"Copied Dictionary:\", dict_copy)\n"
   ]
  },
  {
   "cell_type": "markdown",
   "id": "0e7d677b-9cab-4971-865c-461feb93eb73",
   "metadata": {},
   "source": [
    "### Set\n"
   ]
  },
  {
   "cell_type": "code",
   "execution_count": 17,
   "id": "2fb268ce-590b-421b-83bb-e6f3bf7623f2",
   "metadata": {},
   "outputs": [
    {
     "name": "stdout",
     "output_type": "stream",
     "text": [
      "Original Set: {1, 2, 3, 4, 5}\n"
     ]
    }
   ],
   "source": [
    "# Creating a set with some elements\n",
    "my_set = {1, 2, 3, 4, 5}\n",
    "print(\"Original Set:\", my_set)\n"
   ]
  },
  {
   "cell_type": "code",
   "execution_count": 18,
   "id": "0089b3ba-7e09-414e-87bd-59ba78266739",
   "metadata": {},
   "outputs": [
    {
     "name": "stdout",
     "output_type": "stream",
     "text": [
      "After Adding 6: {1, 2, 3, 4, 5, 6}\n"
     ]
    }
   ],
   "source": [
    "# Add an element to the set\n",
    "my_set.add(6)\n",
    "print(\"After Adding 6:\", my_set)\n"
   ]
  },
  {
   "cell_type": "code",
   "execution_count": 19,
   "id": "53fac448-aeec-487f-86ae-f97d58c000d6",
   "metadata": {},
   "outputs": [
    {
     "name": "stdout",
     "output_type": "stream",
     "text": [
      "After Removing 3: {1, 2, 4, 5, 6}\n",
      "After Discarding 10 (not in set): {1, 2, 4, 5, 6}\n"
     ]
    }
   ],
   "source": [
    "# Remove an element from the set using remove() (raises error if element is not found)\n",
    "my_set.remove(3)\n",
    "print(\"After Removing 3:\", my_set)\n",
    "\n",
    "# Remove an element using discard() (does not raise error if element is not found)\n",
    "my_set.discard(10)\n",
    "print(\"After Discarding 10 (not in set):\", my_set)\n"
   ]
  },
  {
   "cell_type": "code",
   "execution_count": 20,
   "id": "663daa16-6f71-48de-a80f-c1432faa3043",
   "metadata": {},
   "outputs": [
    {
     "name": "stdout",
     "output_type": "stream",
     "text": [
      "After Popping an Element: {2, 4, 5, 6}\n",
      "Popped Element: 1\n"
     ]
    }
   ],
   "source": [
    "# Pop a random element from the set (since sets are unordered)\n",
    "popped_element = my_set.pop()\n",
    "print(\"After Popping an Element:\", my_set)\n",
    "print(\"Popped Element:\", popped_element)\n"
   ]
  },
  {
   "cell_type": "code",
   "execution_count": 21,
   "id": "ebbf8d59-0867-4c91-a20b-e01564bfe860",
   "metadata": {},
   "outputs": [
    {
     "name": "stdout",
     "output_type": "stream",
     "text": [
      "After Clearing the Set: set()\n"
     ]
    }
   ],
   "source": [
    "# Clear all elements from the set\n",
    "my_set.clear()\n",
    "print(\"After Clearing the Set:\", my_set)\n"
   ]
  },
  {
   "cell_type": "code",
   "execution_count": null,
   "id": "df73c714-5621-4e24-b57c-8521a8182647",
   "metadata": {},
   "outputs": [],
   "source": []
  }
 ],
 "metadata": {
  "kernelspec": {
   "display_name": "Python 3 (ipykernel)",
   "language": "python",
   "name": "python3"
  },
  "language_info": {
   "codemirror_mode": {
    "name": "ipython",
    "version": 3
   },
   "file_extension": ".py",
   "mimetype": "text/x-python",
   "name": "python",
   "nbconvert_exporter": "python",
   "pygments_lexer": "ipython3",
   "version": "3.11.5"
  }
 },
 "nbformat": 4,
 "nbformat_minor": 5
}
